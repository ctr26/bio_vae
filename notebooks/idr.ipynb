{
 "cells": [
  {
   "cell_type": "code",
   "execution_count": null,
   "id": "977feac9",
   "metadata": {},
   "outputs": [],
   "source": [
    "import fsspec"
   ]
  },
  {
   "cell_type": "code",
   "execution_count": null,
   "id": "36ad5f42",
   "metadata": {},
   "outputs": [],
   "source": [
    "# import torchdata.datapipes as dp\n",
    "from torchdata.datapipes.iter import IterableWrapper\n",
    "from PIL import Image\n",
    "import io\n",
    "from joblib import Memory\n",
    "from PIL import UnidentifiedImageError"
   ]
  },
  {
   "cell_type": "code",
   "execution_count": null,
   "id": "a10e745a",
   "metadata": {},
   "outputs": [],
   "source": [
    "memory = Memory(location=\".\", verbose=0)"
   ]
  },
  {
   "cell_type": "code",
   "execution_count": null,
   "id": "aa0b2117",
   "metadata": {},
   "outputs": [],
   "source": [
    "# Define FTP host and root directory\n",
    "host = \"ftp.ebi.ac.uk\"\n",
    "root = \"pub/databases/IDR\"\n",
    "dataset = \"idr0093-mueller-perturbation\""
   ]
  },
  {
   "cell_type": "code",
   "execution_count": null,
   "id": "a6a60ca9",
   "metadata": {},
   "outputs": [],
   "source": [
    "# # Setup fsspec filesystem for FTP access\n",
    "# fs = fsspec.filesystem(\"ftp\", host=host, anon=True)\n",
    "fs = fsspec.filesystem(\"ftp\", host=host, anon=True)"
   ]
  },
  {
   "cell_type": "markdown",
   "id": "c657c25f",
   "metadata": {},
   "source": [
    "# Glob pattern to match the files you're interested in"
   ]
  },
  {
   "cell_type": "markdown",
   "id": "e8bb1331",
   "metadata": {},
   "source": [
    "glob_str = f\"{root}/{dataset}/**/\"\n",
    "folders = fs.glob(glob_str, recursive=True)\n",
    "dp = IterableWrapper(folders).list_files_by_fsspec(\n",
    "    anon=True,\n",
    "    protocol=\"ftp\",\n",
    "    host=host,\n",
    "    recursive=True,\n",
    "    masks=[\"*.tif\", \"*.tiff\"],\n",
    ")"
   ]
  },
  {
   "cell_type": "code",
   "execution_count": null,
   "id": "dfec564f",
   "metadata": {},
   "outputs": [],
   "source": [
    "glob_str = f\"{root}/{dataset}/**/*.tif*\""
   ]
  },
  {
   "cell_type": "code",
   "execution_count": null,
   "id": "d10741f5",
   "metadata": {},
   "outputs": [],
   "source": [
    "@memory.cache\n",
    "def get_file_list(glob_str, fs):\n",
    "    return fs.glob(glob_str, recursive=True)"
   ]
  },
  {
   "cell_type": "code",
   "execution_count": null,
   "id": "b7794405",
   "metadata": {},
   "outputs": [],
   "source": [
    "files = get_file_list(glob_str, fs)"
   ]
  },
  {
   "cell_type": "code",
   "execution_count": null,
   "id": "46438ff1",
   "metadata": {},
   "outputs": [],
   "source": [
    "def read_file(x):\n",
    "    try:\n",
    "        # Attempt to open the image\n",
    "        print(x[0])\n",
    "        stream = x[1].read()\n",
    "        print(\"Valid file\")\n",
    "        return stream\n",
    "    except Exception:\n",
    "        print(\"Invalid file\")\n",
    "        return None"
   ]
  },
  {
   "cell_type": "code",
   "execution_count": null,
   "id": "f5a2c5a5",
   "metadata": {},
   "outputs": [],
   "source": [
    "def read_image(x):\n",
    "    return Image.open(io.BytesIO(x))"
   ]
  },
  {
   "cell_type": "code",
   "execution_count": null,
   "id": "1b75835f",
   "metadata": {},
   "outputs": [],
   "source": [
    "def is_valid_image(x):\n",
    "    try:\n",
    "        # Attempt to open the image\n",
    "        image = read_image(x)\n",
    "        image.verify()  # Ensure it's a valid image\n",
    "        print(\"Valid image\")\n",
    "        return True\n",
    "    except (IOError, UnidentifiedImageError):\n",
    "        print(\"Invalid image\")\n",
    "        return False"
   ]
  },
  {
   "cell_type": "code",
   "execution_count": null,
   "id": "0dbe35d9",
   "metadata": {},
   "outputs": [],
   "source": [
    "dp = (\n",
    "    # IterableWrapper(files)\n",
    "    IterableWrapper(files)\n",
    "    .open_files_by_fsspec(\n",
    "        anon=True,\n",
    "        protocol=\"ftp\",\n",
    "        host=host,\n",
    "        mode=\"rb\",\n",
    "        filecache={\"cache_storage\": \"tmp/idr\"},\n",
    "    )\n",
    "    # .filter(filter_fn=is_valid_file)\n",
    "    .map(read_file)\n",
    "    .filter(filter_fn=is_valid_image)\n",
    "    .map(lambda x: Image.open(io.BytesIO(x)))\n",
    ")"
   ]
  },
  {
   "cell_type": "code",
   "execution_count": null,
   "id": "217bc0ba",
   "metadata": {},
   "outputs": [],
   "source": [
    "a = next(iter(dp))\n",
    "print(a)"
   ]
  }
 ],
 "metadata": {
  "jupytext": {
   "cell_metadata_filter": "-all",
   "main_language": "python",
   "notebook_metadata_filter": "-all"
  }
 },
 "nbformat": 4,
 "nbformat_minor": 5
}
