{
 "cells": [
  {
   "cell_type": "markdown",
   "id": "c657c25f",
   "metadata": {},
   "source": [
    "root = \"/nfs/ftp/public/databases/IDR/\""
   ]
  },
  {
   "cell_type": "markdown",
   "id": "e8bb1331",
   "metadata": {},
   "source": [
    "dataset = datasets.ImageFolder(transform=transform)"
   ]
  }
 ],
 "metadata": {
  "jupytext": {
   "cell_metadata_filter": "-all",
   "main_language": "python",
   "notebook_metadata_filter": "-all"
  }
 },
 "nbformat": 4,
 "nbformat_minor": 5
}
