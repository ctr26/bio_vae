{
 "cells": [
  {
   "cell_type": "code",
   "execution_count": null,
   "id": "1c21f652",
   "metadata": {},
   "outputs": [],
   "source": [
    "# Import necessary modules\n",
    "import bioimage_embed\n",
    "import bioimage_embed.config as config\n",
    "from hydra.utils import instantiate\n",
    "from torchvision import datasets"
   ]
  },
  {
   "cell_type": "code",
   "execution_count": null,
   "id": "88fb43bf",
   "metadata": {},
   "outputs": [],
   "source": [
    "# Define input dimensions\n",
    "input_dim = [3, 224, 224]"
   ]
  },
  {
   "cell_type": "code",
   "execution_count": null,
   "id": "b364758d",
   "metadata": {},
   "outputs": [],
   "source": [
    "# Use the default augmentation list\n",
    "transform = instantiate(config.Transform())\n",
    "transform.transform"
   ]
  },
  {
   "cell_type": "code",
   "execution_count": null,
   "id": "b5e1c0e0",
   "metadata": {},
   "outputs": [],
   "source": [
    "# Load the CelebA dataset with the specified transformations\n",
    "dataset = datasets.CelebA(\n",
    "    root=\"data/\",\n",
    "    split=\"train\",\n",
    "    target_type=\"attr\",\n",
    "    download=True,\n",
    "    transform=transform,\n",
    ")"
   ]
  },
  {
   "cell_type": "code",
   "execution_count": null,
   "id": "35482694",
   "metadata": {},
   "outputs": [],
   "source": [
    "# Create a dataloader from the dataset\n",
    "dataloader = config.DataLoader(dataset=dataset)"
   ]
  },
  {
   "cell_type": "code",
   "execution_count": null,
   "id": "2de56894",
   "metadata": {},
   "outputs": [],
   "source": [
    "# Instantiate the model with the input dimensions\n",
    "model = config.Model(input_dim=input_dim)"
   ]
  },
  {
   "cell_type": "code",
   "execution_count": null,
   "id": "dcbe489e",
   "metadata": {},
   "outputs": [],
   "source": [
    "# Define the recipe for the model\n",
    "recipe = config.Recipe(model=\"resnet18_vae\")"
   ]
  },
  {
   "cell_type": "code",
   "execution_count": null,
   "id": "c8a2be1b",
   "metadata": {},
   "outputs": [],
   "source": [
    "# Create the configuration object with the recipe, dataloader, and model\n",
    "cfg = config.Config(recipe=recipe, dataloader=dataloader, model=model)"
   ]
  },
  {
   "cell_type": "code",
   "execution_count": null,
   "id": "949f9ffb",
   "metadata": {},
   "outputs": [],
   "source": [
    "# Initialize BioImageEmbed with the configuration\n",
    "bie = bioimage_embed.BioImageEmbed(cfg)"
   ]
  },
  {
   "cell_type": "code",
   "execution_count": null,
   "id": "717481bc",
   "metadata": {},
   "outputs": [],
   "source": [
    "# Train and export the model if this script is run as the main program\n",
    "if __name__ == \"__main__\":\n",
    "    bie.check().train().export(\"model\")\n",
    "# lit_model = bie.check().train().get_model()\n",
    "# bie.export(\"model\")"
   ]
  }
 ],
 "metadata": {
  "jupytext": {
   "cell_metadata_filter": "-all",
   "main_language": "python",
   "notebook_metadata_filter": "-all"
  }
 },
 "nbformat": 4,
 "nbformat_minor": 5
}
